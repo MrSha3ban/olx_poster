{
 "cells": [
  {
   "cell_type": "markdown",
   "id": "f9a4d58c",
   "metadata": {},
   "source": [
    "1- pip install selenium\n",
    "\n",
    "2- pip install undetected_chromedriver\n",
    "\n",
    "3- Dowload the chromedriver  from the python logo below and unzip it,then copy its location to the script\n"
   ]
  },
  {
   "cell_type": "markdown",
   "id": "cb192860",
   "metadata": {},
   "source": [
    "<table style=\"width:100%\" align=\"left\">\n",
    "  <tr>\n",
    "    <th>\n",
    "<img src=\"https://mrsha3ban.github.io/Website/assets/img/logo.png\" width=\"360\" align=\"left\"></th>\n",
    "<th><a href=\"https://chromedriver.storage.googleapis.com/112.0.5615.49/chromedriver_win32.zip\"> <img src=\"https://media.tenor.com/_7r8RXryt3QAAAAC/python-powered.gif\" align=\"right\" width=100 ></a></th>"
   ]
  },
  {
   "cell_type": "code",
   "execution_count": 47,
   "id": "540622ec",
   "metadata": {},
   "outputs": [
    {
     "name": "stdout",
     "output_type": "stream",
     "text": [
      "Enter your password: ········\n"
     ]
    }
   ],
   "source": [
    "from selenium import webdriver\n",
    "from selenium.webdriver.common.by import By\n",
    "import pandas as pd\n",
    "import time \n",
    "import pyautogui\n",
    "import undetected_chromedriver as uc\n",
    "import getpass\n",
    "\n",
    "\n",
    "categories_dict={'Vehicles':'//*[@id=\"body-wrapper\"]/div[3]/div/div[2]/div[1]/div/div[1]/div','Properties':'//*[@id=\"body-wrapper\"]/div[3]/div/div[2]/div[1]/div/div[2]/div',\n",
    "   'Mobiles & Tablets':'//*[@id=\"body-wrapper\"]/div[3]/div/div[2]/div[1]/div/div[3]/div','Jobs':'//*[@id=\"body-wrapper\"]/div[3]/div/div[2]/div[1]/div/div[4]/div',\n",
    "   'Electronics & Appliances':'//*[@id=\"body-wrapper\"]/div[3]/div/div[2]/div[1]/div/div[5]/div','Furniture & Decor':'//*[@id=\"body-wrapper\"]/div[3]/div/div[2]/div[1]/div/div[6]/div',\n",
    "   'Fashion & Beauty':'//*[@id=\"body-wrapper\"]/div[3]/div/div[2]/div[1]/div/div[7]/div','Pets':'//*[@id=\"body-wrapper\"]/div[3]/div/div[2]/div[1]/div/div[8]/div',\n",
    "   'Children Products':'//*[@id=\"body-wrapper\"]/div[3]/div/div[2]/div[1]/div/div[9]/div','Hobbies':'//*[@id=\"body-wrapper\"]/div[3]/div/div[2]/div[1]/div/div[10]/div',\n",
    "   'Businesses & Industrial':'//*[@id=\"body-wrapper\"]/div[3]/div/div[2]/div[1]/div/div[11]/div','Services':'//*[@id=\"body-wrapper\"]/div[3]/div/div[2]/div[1]/div/div[12]/div',\n",
    "    'Tyres, Batteries, Oils, & Accessories':'//*[@id=\"body-wrapper\"]/div[3]/div/div[2]/div[2]/div/div[3]/div', 'Mobile & Tablet Accessories':'//*[@id=\"body-wrapper\"]/div[3]/div/div[2]/div[2]/div/div[3]/div',\n",
    "    'Computers - Accessories':'//*[@id=\"body-wrapper\"]/div[3]/div/div[2]/div[2]/div/div[2]/div','Computer Accessories & Spare Parts':'//*[@id=\"body-wrapper\"]/div[3]/div/div[2]/div[3]/div/div[3]/div',\n",
    "    'Home Decoration':'//*[@id=\"body-wrapper\"]/div[3]/div/div[2]/div[2]/div/div[6]/div','Women’s Clothing':'//*[@id=\"body-wrapper\"]/div[3]/div/div[2]/div[2]/div/div[1]/div',\n",
    "    'Men’s Clothing':'//*[@id=\"body-wrapper\"]/div[3]/div/div[2]/div[2]/div/div[2]/div','Accessories - Pet Care Products':'//*[@id=\"body-wrapper\"]/div[3]/div/div[2]/div[2]/div/div[5]/div',\n",
    "    'Other Baby Items':'//*[@id=\"body-wrapper\"]/div[3]/div/div[2]/div[2]/div/div[6]/div','Toys':'//*[@id=\"body-wrapper\"]/div[3]/div/div[2]/div[2]/div/div[5]/div',\n",
    "    'Sports Equipment':'//*[@id=\"body-wrapper\"]/div[3]/div/div[2]/div[2]/div/div[7]/div','Board - Card Games':'//*[@id=\"body-wrapper\"]/div[3]/div/div[2]/div[2]/div/div[4]/div',\n",
    "    'Office Furniture & Equipment':'//*[@id=\"body-wrapper\"]/div[3]/div/div[2]/div[2]/div/div[5]/div'}\n",
    "\n",
    "\n",
    "def choice (category) :\n",
    "    categories=pd.DataFrame(categories_dict,index=[0]).T\n",
    "    \n",
    "    return categories.loc[category][0]\n",
    "\n",
    "\n",
    "\n",
    "passwrd= getpass.getpass(\"Enter your password: \")\n",
    "\n",
    "\n",
    "\n",
    "driver = uc.Chrome(executable_path=r'C:\\Users\\Mohamed.Shaaban\\Downloads\\chromedriver.exe')\n",
    "\n",
    "\n",
    "driver.get(\"https://www.olx.com.eg/en/\")\n",
    "\n",
    "\n",
    "sell = driver.find_element(By.XPATH, \"//*[@class='_332d1801']\") \n",
    "sell.click()\n",
    "\n",
    "time.sleep(2)\n",
    "\n",
    "driver.find_element(By.CSS_SELECTOR, \"._21b291bd>button:last-of-type\").click()\n",
    "\n",
    "username_input = driver.find_element(By.XPATH, \"//input[@name='phone']\")\n",
    "username_input.send_keys('1210600450')\n",
    "\n",
    "next_btn = driver.find_element(By.XPATH,\"//button[@class='_5fd7b300 f3d05709']\")\n",
    "next_btn.click()\n",
    "\n",
    "time.sleep(2)\n",
    "\n",
    "username_input = driver.find_element(By.XPATH, \"//input[@name='password']\")\n",
    "username_input.send_keys(passwrd)\n",
    "\n",
    "driver.find_element(By.XPATH,\"//button[@class='_5fd7b300 f3d05709']\").click()\n",
    "time.sleep(1)\n",
    "\n",
    "\n",
    "\n",
    "\n",
    "\n",
    "driver.find_element(By.XPATH,choice('Fashion & Beauty')).click()\n",
    "driver.find_element(By.XPATH,choice('Men’s Clothing')).click()\n",
    "\n",
    "\n"
   ]
  },
  {
   "cell_type": "code",
   "execution_count": 45,
   "id": "dc0a5ad3",
   "metadata": {},
   "outputs": [],
   "source": [
    "driver.quit()"
   ]
  },
  {
   "cell_type": "code",
   "execution_count": 37,
   "id": "815ff30d",
   "metadata": {},
   "outputs": [],
   "source": []
  },
  {
   "cell_type": "code",
   "execution_count": 38,
   "id": "1a0bf72f",
   "metadata": {},
   "outputs": [],
   "source": []
  },
  {
   "cell_type": "code",
   "execution_count": null,
   "id": "5d386797",
   "metadata": {},
   "outputs": [],
   "source": []
  },
  {
   "cell_type": "markdown",
   "id": "59c665ac",
   "metadata": {},
   "source": [
    "   "
   ]
  },
  {
   "cell_type": "markdown",
   "id": "f0e8cc42",
   "metadata": {},
   "source": [
    "<a href=\"https://mrsha3ban.github.io/Website/\"> This tool is developed By: Mr.sha3ban"
   ]
  }
 ],
 "metadata": {
  "kernelspec": {
   "display_name": "Python 3 (ipykernel)",
   "language": "python",
   "name": "python3"
  },
  "language_info": {
   "codemirror_mode": {
    "name": "ipython",
    "version": 3
   },
   "file_extension": ".py",
   "mimetype": "text/x-python",
   "name": "python",
   "nbconvert_exporter": "python",
   "pygments_lexer": "ipython3",
   "version": "3.10.9"
  }
 },
 "nbformat": 4,
 "nbformat_minor": 5
}
